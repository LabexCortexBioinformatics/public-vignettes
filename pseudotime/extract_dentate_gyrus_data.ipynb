{
 "cells": [
  {
   "cell_type": "code",
   "execution_count": 1,
   "metadata": {},
   "outputs": [],
   "source": [
    "import scvelo as scv\n",
    "import pandas as pd"
   ]
  },
  {
   "cell_type": "code",
   "execution_count": 2,
   "metadata": {},
   "outputs": [],
   "source": [
    "adata = scv.datasets.dentategyrus()"
   ]
  },
  {
   "cell_type": "code",
   "execution_count": 3,
   "metadata": {},
   "outputs": [],
   "source": [
    "df_X = pd.DataFrame.sparse.from_spmatrix(adata.X.transpose(), index=adata.var.index, columns=adata.obs.index)\n",
    "df_clusters = adata.obs\n",
    "df_umap = pd.DataFrame(data=adata.obsm['X_umap'], index=adata.obs.index, columns=['UMAP_1', 'UMAP_2'])"
   ]
  },
  {
   "cell_type": "code",
   "execution_count": 4,
   "metadata": {},
   "outputs": [],
   "source": [
    "df_X.to_csv('/mnt/Data1/public_vignettes/scvelo_data/dentate_gyrus_matrix.csv')\n",
    "df_clusters.to_csv('/mnt/Data1/public_vignettes/scvelo_data/dentate_gyrus_metadata.csv')\n",
    "df_umap.to_csv('/mnt/Data1/public_vignettes/scvelo_data/dentate_gyrus_umap.csv')"
   ]
  },
  {
   "cell_type": "code",
   "execution_count": 5,
   "metadata": {
    "scrolled": false
   },
   "outputs": [],
   "source": [
    "adata2 = adata[adata.obs['clusters'].isin(['Astrocytes','Radial Glia-like', 'nIPC', 'Neuroblast', 'Mossy', 'Cck-Tox', 'Granule immature', 'Granule mature'])]"
   ]
  },
  {
   "cell_type": "code",
   "execution_count": 6,
   "metadata": {},
   "outputs": [],
   "source": [
    "df_X = pd.DataFrame.sparse.from_spmatrix(adata2.X.transpose(), index=adata2.var.index, columns=adata2.obs.index)\n",
    "df_clusters = adata2.obs\n",
    "df_umap = pd.DataFrame(data=adata2.obsm['X_umap'], index=adata2.obs.index, columns=['UMAP_1', 'UMAP_2'])"
   ]
  },
  {
   "cell_type": "code",
   "execution_count": 7,
   "metadata": {},
   "outputs": [],
   "source": [
    "df_X.to_csv('/mnt/Data1/public_vignettes/scvelo_data/dentate_gyrus_matrix.csv')\n",
    "df_clusters.to_csv('/mnt/Data1/public_vignettes/scvelo_data/dentate_gyrus_metadata.csv')\n",
    "df_umap.to_csv('/mnt/Data1/public_vignettes/scvelo_data/dentate_gyrus_umap.csv')"
   ]
  },
  {
   "cell_type": "code",
   "execution_count": null,
   "metadata": {},
   "outputs": [],
   "source": []
  },
  {
   "cell_type": "code",
   "execution_count": null,
   "metadata": {},
   "outputs": [],
   "source": []
  }
 ],
 "metadata": {
  "kernelspec": {
   "display_name": "Python 3",
   "language": "python",
   "name": "python3"
  },
  "language_info": {
   "codemirror_mode": {
    "name": "ipython",
    "version": 3
   },
   "file_extension": ".py",
   "mimetype": "text/x-python",
   "name": "python",
   "nbconvert_exporter": "python",
   "pygments_lexer": "ipython3",
   "version": "3.8.5"
  }
 },
 "nbformat": 4,
 "nbformat_minor": 5
}
